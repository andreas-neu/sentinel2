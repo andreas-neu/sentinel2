{
 "cells": [
  {
   "cell_type": "markdown",
   "metadata": {},
   "source": [
    "# Streaming Sentinel 2 Data\n",
    "\n",
    "This is an example of using a library to access a very large dataset and only download the parts that are needed.\n",
    "\n",
    "In this case only a small part of the whole [Sentinel 2](https://en.wikipedia.org/wiki/Sentinel-2) dataset is fetched on demand.\n",
    "\n",
    "Most of the code in this notebook deals with processing the data so that it can be plotted for human consumption."
   ]
  },
  {
   "cell_type": "code",
   "execution_count": 1,
   "metadata": {},
   "outputs": [],
   "source": [
    "%matplotlib inline"
   ]
  },
  {
   "cell_type": "code",
   "execution_count": 1,
   "metadata": {},
   "outputs": [],
   "source": [
    "import matplotlib.pyplot as plt"
   ]
  },
  {
   "cell_type": "code",
   "execution_count": 2,
   "metadata": {},
   "outputs": [
    {
     "ename": "ImportError",
     "evalue": "cannot import name 'sentinel2' from 'rio_tiler' (C:\\Users\\andre\\AppData\\Local\\Programs\\Python\\Python312\\Lib\\site-packages\\rio_tiler\\__init__.py)",
     "output_type": "error",
     "traceback": [
      "\u001b[1;31m---------------------------------------------------------------------------\u001b[0m",
      "\u001b[1;31mImportError\u001b[0m                               Traceback (most recent call last)",
      "Cell \u001b[1;32mIn[2], line 5\u001b[0m\n\u001b[0;32m      1\u001b[0m \u001b[38;5;28;01mimport\u001b[39;00m \u001b[38;5;21;01mmath\u001b[39;00m\n\u001b[0;32m      3\u001b[0m \u001b[38;5;28;01mimport\u001b[39;00m \u001b[38;5;21;01mnumpy\u001b[39;00m \u001b[38;5;28;01mas\u001b[39;00m \u001b[38;5;21;01mnp\u001b[39;00m\n\u001b[1;32m----> 5\u001b[0m \u001b[38;5;28;01mfrom\u001b[39;00m \u001b[38;5;21;01mrio_tiler\u001b[39;00m \u001b[38;5;28;01mimport\u001b[39;00m sentinel2\n\u001b[0;32m      6\u001b[0m \u001b[38;5;28;01mfrom\u001b[39;00m \u001b[38;5;21;01mskimage\u001b[39;00m \u001b[38;5;28;01mimport\u001b[39;00m exposure\n",
      "\u001b[1;31mImportError\u001b[0m: cannot import name 'sentinel2' from 'rio_tiler' (C:\\Users\\andre\\AppData\\Local\\Programs\\Python\\Python312\\Lib\\site-packages\\rio_tiler\\__init__.py)"
     ]
    }
   ],
   "source": [
    "import math\n",
    "\n",
    "import numpy as np\n",
    "\n",
    "from rio_tiler import sentinel2\n",
    "from skimage import exposure"
   ]
  },
  {
   "cell_type": "code",
   "execution_count": 5,
   "metadata": {},
   "outputs": [
    {
     "ename": "NameError",
     "evalue": "name 'sentinel2' is not defined",
     "output_type": "error",
     "traceback": [
      "\u001b[1;31m---------------------------------------------------------------------------\u001b[0m",
      "\u001b[1;31mNameError\u001b[0m                                 Traceback (most recent call last)",
      "Cell \u001b[1;32mIn[5], line 17\u001b[0m\n\u001b[0;32m     13\u001b[0m     \u001b[38;5;28;01mreturn\u001b[39;00m lat, lng\n\u001b[0;32m     16\u001b[0m scene_id \u001b[38;5;241m=\u001b[39m \u001b[38;5;124m'\u001b[39m\u001b[38;5;124mS2A_tile_20171103_32TMT_0\u001b[39m\u001b[38;5;124m'\u001b[39m\n\u001b[1;32m---> 17\u001b[0m bounds \u001b[38;5;241m=\u001b[39m \u001b[43msentinel2\u001b[49m\u001b[38;5;241m.\u001b[39mbounds(scene_id)\n\u001b[0;32m     19\u001b[0m z \u001b[38;5;241m=\u001b[39m \u001b[38;5;241m12\u001b[39m\n\u001b[0;32m     20\u001b[0m x, y \u001b[38;5;241m=\u001b[39m deg2num(\u001b[38;5;241m*\u001b[39mcentroid(bounds), z)\n",
      "\u001b[1;31mNameError\u001b[0m: name 'sentinel2' is not defined"
     ]
    }
   ],
   "source": [
    "def deg2num(lat_deg, lon_deg, zoom):\n",
    "    lat_rad = math.radians(lat_deg)\n",
    "    n = 2.0 ** zoom\n",
    "    xtile = int((lon_deg + 180.0) / 360.0 * n)\n",
    "    ytile = int((1.0 - math.log(math.tan(lat_rad) + (1 / math.cos(lat_rad))) / math.pi) / 2.0 * n)\n",
    "    return (xtile, ytile)\n",
    "\n",
    "\n",
    "def centroid(bounds):\n",
    "    bounds = bounds['bounds']\n",
    "    lat = (bounds[1] + bounds[3]) / 2\n",
    "    lng = (bounds[0] + bounds[2]) / 2\n",
    "    return lat, lng\n",
    "\n",
    "\n",
    "scene_id = 'S2A_tile_20171103_32TMT_0'\n",
    "bounds = sentinel2.bounds(scene_id)\n",
    "\n",
    "z = 12\n",
    "x, y = deg2num(*centroid(bounds), z)\n",
    "\n",
    "# This call fetches the data\n",
    "tile, mask = sentinel2.tile(scene_id, x, y, z, tilesize=512)\n",
    "# Move the colour dimension to the last axis\n",
    "tile = np.transpose(tile, (1, 2, 0))\n",
    "\n",
    "# Rescale the intensity to make a pretty picture for human eyes\n",
    "low, high = np.percentile(tile, (1, 97))\n",
    "tile = exposure.rescale_intensity(tile, in_range=(low, high)) / 65535"
   ]
  },
  {
   "cell_type": "code",
   "execution_count": null,
   "metadata": {},
   "outputs": [],
   "source": [
    "# The tile only shows a subset of the whole image, which is several GB large\n",
    "tile.shape"
   ]
  },
  {
   "cell_type": "code",
   "execution_count": null,
   "metadata": {},
   "outputs": [],
   "source": [
    "plt.imshow(tile)\n",
    "plt.axis(\"off\");"
   ]
  }
 ],
 "metadata": {
  "kernelspec": {
   "display_name": "Python 3 (ipykernel)",
   "language": "python",
   "name": "python3"
  },
  "language_info": {
   "codemirror_mode": {
    "name": "ipython",
    "version": 3
   },
   "file_extension": ".py",
   "mimetype": "text/x-python",
   "name": "python",
   "nbconvert_exporter": "python",
   "pygments_lexer": "ipython3",
   "version": "3.12.4"
  }
 },
 "nbformat": 4,
 "nbformat_minor": 4
}
